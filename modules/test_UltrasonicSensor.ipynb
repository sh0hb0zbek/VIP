{
 "cells": [
  {
   "cell_type": "code",
   "execution_count": 1,
   "id": "9ff61203",
   "metadata": {},
   "outputs": [],
   "source": [
    "from config import cfg\n",
    "from sensors import Ultrasonic\n",
    "from RPi import GPIO\n",
    "GPIO.setwarnings(False)"
   ]
  },
  {
   "cell_type": "code",
   "execution_count": 2,
   "id": "4723e2d7",
   "metadata": {},
   "outputs": [],
   "source": [
    "u = Ultrasonic(trig=cfg.ULTRA.TRIG, echo=cfg.ULTRA.ECHO, unit='cm')"
   ]
  },
  {
   "cell_type": "code",
   "execution_count": 3,
   "id": "bc1eaf42",
   "metadata": {},
   "outputs": [
    {
     "name": "stdout",
     "output_type": "stream",
     "text": [
      "dis: 30.98 cm\n",
      "dis: 27.44 cm\n",
      "dis: 13.87 cm\n",
      "dis: 11.13 cm\n",
      "dis: 10.46 cm\n",
      "dis: 8.16 cm\n",
      "dis: 5.71 cm\n",
      "dis: 4.13 cm\n",
      "dis: 4.55 cm\n",
      "dis: 2.73 cm\n",
      "dis: 3.43 cm\n",
      "dis: 6.14 cm\n",
      "dis: 9.47 cm\n",
      "dis: 12.99 cm\n",
      "dis: 15.60 cm\n",
      "dis: 1208.15 cm\n"
     ]
    },
    {
     "ename": "KeyboardInterrupt",
     "evalue": "",
     "output_type": "error",
     "traceback": [
      "\u001b[0;31m---------------------------------------------------------------------------\u001b[0m",
      "\u001b[0;31mKeyboardInterrupt\u001b[0m                         Traceback (most recent call last)",
      "Input \u001b[0;32mIn [3]\u001b[0m, in \u001b[0;36m<cell line: 2>\u001b[0;34m()\u001b[0m\n\u001b[1;32m      1\u001b[0m \u001b[38;5;28;01mwhile\u001b[39;00m \u001b[38;5;28;01mTrue\u001b[39;00m:\n\u001b[0;32m----> 2\u001b[0m     dis \u001b[38;5;241m=\u001b[39m \u001b[43mu\u001b[49m\u001b[38;5;241;43m.\u001b[39;49m\u001b[43mget_distance\u001b[49m\u001b[43m(\u001b[49m\u001b[43mtimeout\u001b[49m\u001b[38;5;241;43m=\u001b[39;49m\u001b[38;5;241;43m0.5\u001b[39;49m\u001b[43m)\u001b[49m\n\u001b[1;32m      3\u001b[0m     \u001b[38;5;28mprint\u001b[39m(\u001b[38;5;124mf\u001b[39m\u001b[38;5;124m'\u001b[39m\u001b[38;5;124mdis: \u001b[39m\u001b[38;5;132;01m{\u001b[39;00mdis\u001b[38;5;132;01m:\u001b[39;00m\u001b[38;5;124m.2f\u001b[39m\u001b[38;5;132;01m}\u001b[39;00m\u001b[38;5;124m \u001b[39m\u001b[38;5;132;01m{\u001b[39;00mu\u001b[38;5;241m.\u001b[39munit\u001b[38;5;132;01m}\u001b[39;00m\u001b[38;5;124m'\u001b[39m)\n",
      "File \u001b[0;32m~/123/sensors.py:30\u001b[0m, in \u001b[0;36mUltrasonic.get_distance\u001b[0;34m(self, timeout, unit)\u001b[0m\n\u001b[1;32m     28\u001b[0m pulse_duration \u001b[38;5;241m=\u001b[39m pulse_end \u001b[38;5;241m-\u001b[39m pulse_start\n\u001b[1;32m     29\u001b[0m distance \u001b[38;5;241m=\u001b[39m \u001b[38;5;28mround\u001b[39m(pulse_duration \u001b[38;5;241m*\u001b[39m \u001b[38;5;241m171.50\u001b[39m, \u001b[38;5;241m5\u001b[39m)\n\u001b[0;32m---> 30\u001b[0m \u001b[43msleep\u001b[49m\u001b[43m(\u001b[49m\u001b[43mtimeout\u001b[49m\u001b[43m)\u001b[49m\n\u001b[1;32m     31\u001b[0m \u001b[38;5;28;01mif\u001b[39;00m unit \u001b[38;5;241m==\u001b[39m \u001b[38;5;124m'\u001b[39m\u001b[38;5;124mcm\u001b[39m\u001b[38;5;124m'\u001b[39m:\n\u001b[1;32m     32\u001b[0m \tdistance \u001b[38;5;241m*\u001b[39m\u001b[38;5;241m=\u001b[39m \u001b[38;5;241m100\u001b[39m\n",
      "\u001b[0;31mKeyboardInterrupt\u001b[0m: "
     ]
    }
   ],
   "source": [
    "while True:\n",
    "    dis = u.get_distance(timeout=0.5)\n",
    "    print(f'dis: {dis:.2f} {u.unit}')"
   ]
  },
  {
   "cell_type": "code",
   "execution_count": null,
   "id": "1bb7fd7d",
   "metadata": {},
   "outputs": [],
   "source": []
  }
 ],
 "metadata": {
  "kernelspec": {
   "display_name": "Python 3 (ipykernel)",
   "language": "python",
   "name": "python3"
  },
  "language_info": {
   "codemirror_mode": {
    "name": "ipython",
    "version": 3
   },
   "file_extension": ".py",
   "mimetype": "text/x-python",
   "name": "python",
   "nbconvert_exporter": "python",
   "pygments_lexer": "ipython3",
   "version": "3.9.2"
  }
 },
 "nbformat": 4,
 "nbformat_minor": 5
}
