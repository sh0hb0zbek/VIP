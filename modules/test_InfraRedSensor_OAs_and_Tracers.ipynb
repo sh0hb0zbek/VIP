{
 "cells": [
  {
   "cell_type": "code",
   "execution_count": 1,
   "id": "b62e8557",
   "metadata": {},
   "outputs": [],
   "source": [
    "from sensors import Tracer, ObjectAvoidance\n",
    "from config import cfg\n",
    "from RPi import GPIO\n",
    "GPIO.setwarnings(False)"
   ]
  },
  {
   "cell_type": "code",
   "execution_count": 2,
   "id": "2205a057",
   "metadata": {},
   "outputs": [],
   "source": [
    "oa_right = ObjectAvoidance(pin=cfg.IR.OA.RIGHT)\n",
    "oa_left = ObjectAvoidance(pin=cfg.IR.OA.LEFT)\n",
    "tracer_right = Tracer(pin=cfg.IR.TRACER.RIGHT)\n",
    "tracer_left = Tracer(pin=cfg.IR.TRACER.LEFT)"
   ]
  },
  {
   "cell_type": "code",
   "execution_count": 3,
   "id": "3d858c7a",
   "metadata": {},
   "outputs": [
    {
     "name": "stdout",
     "output_type": "stream",
     "text": [
      "Object is Detected\n",
      "Object is Detected\n",
      "Object is Detected\n",
      "Object is Detected\n",
      "Object is Detected\n",
      "No Object is Detected\n",
      "No Object is Detected\n",
      "No Object is Detected\n",
      "No Object is Detected\n",
      "No Object is Detected\n",
      "No Object is Detected\n"
     ]
    },
    {
     "ename": "KeyboardInterrupt",
     "evalue": "",
     "output_type": "error",
     "traceback": [
      "\u001b[0;31m---------------------------------------------------------------------------\u001b[0m",
      "\u001b[0;31mKeyboardInterrupt\u001b[0m                         Traceback (most recent call last)",
      "Input \u001b[0;32mIn [3]\u001b[0m, in \u001b[0;36m<cell line: 2>\u001b[0;34m()\u001b[0m\n\u001b[1;32m      1\u001b[0m \u001b[38;5;28;01mwhile\u001b[39;00m \u001b[38;5;28;01mTrue\u001b[39;00m:\n\u001b[0;32m----> 2\u001b[0m     \u001b[38;5;28;01mif\u001b[39;00m \u001b[43moa_right\u001b[49m\u001b[38;5;241;43m.\u001b[39;49m\u001b[43misObjectExist\u001b[49m\u001b[43m(\u001b[49m\u001b[43mtimeout\u001b[49m\u001b[38;5;241;43m=\u001b[39;49m\u001b[38;5;241;43m0.5\u001b[39;49m\u001b[43m)\u001b[49m:\n\u001b[1;32m      3\u001b[0m         \u001b[38;5;28mprint\u001b[39m(\u001b[38;5;124m'\u001b[39m\u001b[38;5;124mObject is Detected\u001b[39m\u001b[38;5;124m'\u001b[39m)\n\u001b[1;32m      4\u001b[0m     \u001b[38;5;28;01melse\u001b[39;00m:\n",
      "File \u001b[0;32m~/123/sensors.py:64\u001b[0m, in \u001b[0;36mObjectAvoidance.isObjectExist\u001b[0;34m(self, timeout)\u001b[0m\n\u001b[1;32m     63\u001b[0m \u001b[38;5;28;01mdef\u001b[39;00m \u001b[38;5;21misObjectExist\u001b[39m(\u001b[38;5;28mself\u001b[39m, timeout\u001b[38;5;241m=\u001b[39m\u001b[38;5;241m0.1\u001b[39m):\n\u001b[0;32m---> 64\u001b[0m     \u001b[43msleep\u001b[49m\u001b[43m(\u001b[49m\u001b[43mtimeout\u001b[49m\u001b[43m)\u001b[49m\n\u001b[1;32m     65\u001b[0m     \u001b[38;5;28;01mif\u001b[39;00m GPIO\u001b[38;5;241m.\u001b[39minput(\u001b[38;5;28mself\u001b[39m\u001b[38;5;241m.\u001b[39mpin) \u001b[38;5;241m==\u001b[39m \u001b[38;5;241m0\u001b[39m:\n\u001b[1;32m     66\u001b[0m         \u001b[38;5;28;01mreturn\u001b[39;00m \u001b[38;5;28;01mTrue\u001b[39;00m\n",
      "\u001b[0;31mKeyboardInterrupt\u001b[0m: "
     ]
    }
   ],
   "source": [
    "while True:\n",
    "    if oa_right.isObjectExist(timeout=0.5):\n",
    "        print('Object is Detected')\n",
    "    else:\n",
    "        print('No Object is Detected')"
   ]
  },
  {
   "cell_type": "code",
   "execution_count": 4,
   "id": "5e90640b",
   "metadata": {},
   "outputs": [
    {
     "name": "stdout",
     "output_type": "stream",
     "text": [
      "Object is Detected\n",
      "Object is Detected\n",
      "Object is Detected\n",
      "Object is Detected\n",
      "No Object is Detected\n",
      "No Object is Detected\n",
      "No Object is Detected\n",
      "No Object is Detected\n",
      "Object is Detected\n",
      "Object is Detected\n",
      "Object is Detected\n",
      "Object is Detected\n"
     ]
    },
    {
     "ename": "KeyboardInterrupt",
     "evalue": "",
     "output_type": "error",
     "traceback": [
      "\u001b[0;31m---------------------------------------------------------------------------\u001b[0m",
      "\u001b[0;31mKeyboardInterrupt\u001b[0m                         Traceback (most recent call last)",
      "Input \u001b[0;32mIn [4]\u001b[0m, in \u001b[0;36m<cell line: 2>\u001b[0;34m()\u001b[0m\n\u001b[1;32m      1\u001b[0m \u001b[38;5;28;01mwhile\u001b[39;00m \u001b[38;5;28;01mTrue\u001b[39;00m:\n\u001b[0;32m----> 2\u001b[0m     \u001b[38;5;28;01mif\u001b[39;00m \u001b[43moa_left\u001b[49m\u001b[38;5;241;43m.\u001b[39;49m\u001b[43misObjectExist\u001b[49m\u001b[43m(\u001b[49m\u001b[43mtimeout\u001b[49m\u001b[38;5;241;43m=\u001b[39;49m\u001b[38;5;241;43m0.5\u001b[39;49m\u001b[43m)\u001b[49m:\n\u001b[1;32m      3\u001b[0m         \u001b[38;5;28mprint\u001b[39m(\u001b[38;5;124m'\u001b[39m\u001b[38;5;124mObject is Detected\u001b[39m\u001b[38;5;124m'\u001b[39m)\n\u001b[1;32m      4\u001b[0m     \u001b[38;5;28;01melse\u001b[39;00m:\n",
      "File \u001b[0;32m~/123/sensors.py:64\u001b[0m, in \u001b[0;36mObjectAvoidance.isObjectExist\u001b[0;34m(self, timeout)\u001b[0m\n\u001b[1;32m     63\u001b[0m \u001b[38;5;28;01mdef\u001b[39;00m \u001b[38;5;21misObjectExist\u001b[39m(\u001b[38;5;28mself\u001b[39m, timeout\u001b[38;5;241m=\u001b[39m\u001b[38;5;241m0.1\u001b[39m):\n\u001b[0;32m---> 64\u001b[0m     \u001b[43msleep\u001b[49m\u001b[43m(\u001b[49m\u001b[43mtimeout\u001b[49m\u001b[43m)\u001b[49m\n\u001b[1;32m     65\u001b[0m     \u001b[38;5;28;01mif\u001b[39;00m GPIO\u001b[38;5;241m.\u001b[39minput(\u001b[38;5;28mself\u001b[39m\u001b[38;5;241m.\u001b[39mpin) \u001b[38;5;241m==\u001b[39m \u001b[38;5;241m0\u001b[39m:\n\u001b[1;32m     66\u001b[0m         \u001b[38;5;28;01mreturn\u001b[39;00m \u001b[38;5;28;01mTrue\u001b[39;00m\n",
      "\u001b[0;31mKeyboardInterrupt\u001b[0m: "
     ]
    }
   ],
   "source": [
    "while True:\n",
    "    if oa_left.isObjectExist(timeout=0.5):\n",
    "        print('Object is Detected')\n",
    "    else:\n",
    "        print('No Object is Detected')"
   ]
  },
  {
   "cell_type": "code",
   "execution_count": 5,
   "id": "82d7cbe2",
   "metadata": {},
   "outputs": [
    {
     "ename": "AttributeError",
     "evalue": "'Tracer' object has no attribute 'isBlack'",
     "output_type": "error",
     "traceback": [
      "\u001b[0;31m---------------------------------------------------------------------------\u001b[0m",
      "\u001b[0;31mAttributeError\u001b[0m                            Traceback (most recent call last)",
      "Input \u001b[0;32mIn [5]\u001b[0m, in \u001b[0;36m<cell line: 2>\u001b[0;34m()\u001b[0m\n\u001b[1;32m      1\u001b[0m \u001b[38;5;28;01mwhile\u001b[39;00m \u001b[38;5;28;01mTrue\u001b[39;00m:\n\u001b[0;32m----> 2\u001b[0m     \u001b[38;5;28;01mif\u001b[39;00m \u001b[43mtracer_right\u001b[49m\u001b[38;5;241;43m.\u001b[39;49m\u001b[43misBlack\u001b[49m(timeout\u001b[38;5;241m=\u001b[39m\u001b[38;5;241m0.5\u001b[39m):\n\u001b[1;32m      3\u001b[0m         \u001b[38;5;28mprint\u001b[39m(\u001b[38;5;124m'\u001b[39m\u001b[38;5;124mSurface is Black\u001b[39m\u001b[38;5;124m'\u001b[39m)\n\u001b[1;32m      4\u001b[0m     \u001b[38;5;28;01melse\u001b[39;00m:\n",
      "\u001b[0;31mAttributeError\u001b[0m: 'Tracer' object has no attribute 'isBlack'"
     ]
    }
   ],
   "source": [
    "# !!! need to be fix\n",
    "while True:\n",
    "    if tracer_right.isBlack(timeout=0.5):\n",
    "        print('Surface is Black')\n",
    "    else:\n",
    "        print('Surface is not Black')"
   ]
  },
  {
   "cell_type": "code",
   "execution_count": 4,
   "id": "c88c9564",
   "metadata": {},
   "outputs": [
    {
     "name": "stdout",
     "output_type": "stream",
     "text": [
      "Surface is not Black\n",
      "Surface is not Black\n",
      "Surface is not Black\n",
      "Surface is not Black\n",
      "Surface is not Black\n",
      "Surface is not Black\n",
      "Surface is not Black\n",
      "Surface is not Black\n",
      "Surface is not Black\n",
      "Surface is Black\n",
      "Surface is Black\n",
      "Surface is Black\n",
      "Surface is Black\n",
      "Surface is not Black\n",
      "Surface is Black\n",
      "Surface is Black\n",
      "Surface is Black\n",
      "Surface is Black\n",
      "Surface is Black\n",
      "Surface is Black\n",
      "Surface is Black\n",
      "Surface is Black\n",
      "Surface is Black\n",
      "Surface is Black\n",
      "Surface is Black\n",
      "Surface is Black\n",
      "Surface is not Black\n",
      "Surface is not Black\n",
      "Surface is not Black\n",
      "Surface is not Black\n",
      "Surface is Black\n",
      "Surface is Black\n",
      "Surface is Black\n",
      "Surface is Black\n",
      "Surface is Black\n",
      "Surface is Black\n",
      "Surface is not Black\n",
      "Surface is not Black\n",
      "Surface is not Black\n",
      "Surface is not Black\n",
      "Surface is not Black\n",
      "Surface is Black\n",
      "Surface is Black\n",
      "Surface is Black\n",
      "Surface is Black\n",
      "Surface is not Black\n",
      "Surface is not Black\n",
      "Surface is not Black\n",
      "Surface is not Black\n",
      "Surface is Black\n",
      "Surface is Black\n",
      "Surface is not Black\n",
      "Surface is not Black\n",
      "Surface is not Black\n",
      "Surface is Black\n",
      "Surface is Black\n",
      "Surface is Black\n",
      "Surface is Black\n",
      "Surface is not Black\n",
      "Surface is not Black\n",
      "Surface is not Black\n",
      "Surface is Black\n",
      "Surface is not Black\n",
      "Surface is not Black\n",
      "Surface is not Black\n",
      "Surface is not Black\n",
      "Surface is not Black\n",
      "Surface is Black\n",
      "Surface is Black\n",
      "Surface is Black\n",
      "Surface is not Black\n",
      "Surface is not Black\n",
      "Surface is not Black\n",
      "Surface is not Black\n",
      "Surface is not Black\n",
      "Surface is not Black\n",
      "Surface is not Black\n",
      "Surface is not Black\n",
      "Surface is not Black\n",
      "Surface is not Black\n",
      "Surface is Black\n",
      "Surface is Black\n",
      "Surface is Black\n",
      "Surface is Black\n",
      "Surface is not Black\n",
      "Surface is not Black\n",
      "Surface is not Black\n",
      "Surface is not Black\n",
      "Surface is Black\n",
      "Surface is Black\n",
      "Surface is not Black\n",
      "Surface is not Black\n",
      "Surface is not Black\n",
      "Surface is not Black\n",
      "Surface is Black\n",
      "Surface is Black\n",
      "Surface is Black\n",
      "Surface is Black\n",
      "Surface is Black\n",
      "Surface is not Black\n",
      "Surface is not Black\n",
      "Surface is not Black\n",
      "Surface is not Black\n",
      "Surface is not Black\n",
      "Surface is not Black\n",
      "Surface is not Black\n",
      "Surface is not Black\n",
      "Surface is not Black\n",
      "Surface is Black\n",
      "Surface is Black\n",
      "Surface is Black\n",
      "Surface is Black\n",
      "Surface is not Black\n",
      "Surface is not Black\n",
      "Surface is not Black\n",
      "Surface is not Black\n",
      "Surface is not Black\n",
      "Surface is not Black\n",
      "Surface is not Black\n",
      "Surface is not Black\n",
      "Surface is not Black\n",
      "Surface is not Black\n",
      "Surface is not Black\n",
      "Surface is Black\n",
      "Surface is Black\n",
      "Surface is Black\n",
      "Surface is Black\n",
      "Surface is not Black\n",
      "Surface is not Black\n",
      "Surface is not Black\n",
      "Surface is not Black\n",
      "Surface is not Black\n",
      "Surface is not Black\n",
      "Surface is not Black\n",
      "Surface is not Black\n",
      "Surface is not Black\n",
      "Surface is not Black\n",
      "Surface is Black\n",
      "Surface is Black\n",
      "Surface is Black\n",
      "Surface is Black\n",
      "Surface is not Black\n",
      "Surface is not Black\n",
      "Surface is not Black\n",
      "Surface is not Black\n",
      "Surface is not Black\n",
      "Surface is not Black\n",
      "Surface is Black\n",
      "Surface is Black\n",
      "Surface is Black\n",
      "Surface is Black\n",
      "Surface is Black\n",
      "Surface is Black\n",
      "Surface is Black\n",
      "Surface is Black\n",
      "Surface is Black\n",
      "Surface is Black\n",
      "Surface is not Black\n",
      "Surface is not Black\n",
      "Surface is not Black\n",
      "Surface is not Black\n",
      "Surface is not Black\n",
      "Surface is not Black\n",
      "Surface is not Black\n",
      "Surface is not Black\n"
     ]
    },
    {
     "ename": "KeyboardInterrupt",
     "evalue": "",
     "output_type": "error",
     "traceback": [
      "\u001b[0;31m---------------------------------------------------------------------------\u001b[0m",
      "\u001b[0;31mKeyboardInterrupt\u001b[0m                         Traceback (most recent call last)",
      "Input \u001b[0;32mIn [4]\u001b[0m, in \u001b[0;36m<cell line: 2>\u001b[0;34m()\u001b[0m\n\u001b[1;32m      1\u001b[0m \u001b[38;5;28;01mwhile\u001b[39;00m \u001b[38;5;28;01mTrue\u001b[39;00m:\n\u001b[0;32m----> 2\u001b[0m     \u001b[38;5;28;01mif\u001b[39;00m \u001b[43mtracer_left\u001b[49m\u001b[38;5;241;43m.\u001b[39;49m\u001b[43misBlack\u001b[49m\u001b[43m(\u001b[49m\u001b[43mtimeout\u001b[49m\u001b[38;5;241;43m=\u001b[39;49m\u001b[38;5;241;43m0.5\u001b[39;49m\u001b[43m)\u001b[49m:\n\u001b[1;32m      3\u001b[0m         \u001b[38;5;28mprint\u001b[39m(\u001b[38;5;124m'\u001b[39m\u001b[38;5;124mSurface is Black\u001b[39m\u001b[38;5;124m'\u001b[39m)\n\u001b[1;32m      4\u001b[0m     \u001b[38;5;28;01melse\u001b[39;00m:\n",
      "File \u001b[0;32m~/123/sensors.py:47\u001b[0m, in \u001b[0;36mTracer.isBlack\u001b[0;34m(self, timeout)\u001b[0m\n\u001b[1;32m     46\u001b[0m \u001b[38;5;28;01mdef\u001b[39;00m \u001b[38;5;21misBlack\u001b[39m(\u001b[38;5;28mself\u001b[39m, timeout\u001b[38;5;241m=\u001b[39m\u001b[38;5;241m0.1\u001b[39m):\n\u001b[0;32m---> 47\u001b[0m     \u001b[43msleep\u001b[49m\u001b[43m(\u001b[49m\u001b[43mtimeout\u001b[49m\u001b[43m)\u001b[49m\n\u001b[1;32m     48\u001b[0m     \u001b[38;5;28;01mif\u001b[39;00m GPIO\u001b[38;5;241m.\u001b[39minput(\u001b[38;5;28mself\u001b[39m\u001b[38;5;241m.\u001b[39mpin) \u001b[38;5;241m==\u001b[39m \u001b[38;5;241m0\u001b[39m:\n\u001b[1;32m     49\u001b[0m         \u001b[38;5;28;01mreturn\u001b[39;00m \u001b[38;5;28;01mFalse\u001b[39;00m\n",
      "\u001b[0;31mKeyboardInterrupt\u001b[0m: "
     ]
    }
   ],
   "source": [
    "# !!! need to be fix\n",
    "while True:\n",
    "    if tracer_left.isBlack(timeout=0.5):\n",
    "        print('Surface is Black')\n",
    "    else:\n",
    "        print('Surface is not Black')"
   ]
  }
 ],
 "metadata": {
  "kernelspec": {
   "display_name": "Python 3 (ipykernel)",
   "language": "python",
   "name": "python3"
  },
  "language_info": {
   "codemirror_mode": {
    "name": "ipython",
    "version": 3
   },
   "file_extension": ".py",
   "mimetype": "text/x-python",
   "name": "python",
   "nbconvert_exporter": "python",
   "pygments_lexer": "ipython3",
   "version": "3.9.2"
  }
 },
 "nbformat": 4,
 "nbformat_minor": 5
}
