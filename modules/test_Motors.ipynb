{
 "cells": [
  {
   "cell_type": "code",
   "execution_count": null,
   "id": "c3699e24",
   "metadata": {},
   "outputs": [],
   "source": [
    "cfg"
   ]
  },
  {
   "cell_type": "code",
   "execution_count": 1,
   "id": "189ebf77",
   "metadata": {},
   "outputs": [],
   "source": [
    "from config import cfg\n",
    "from RPi import GPIO\n",
    "from motor import Motor\n",
    "GPIO.setwarnings(False)"
   ]
  },
  {
   "cell_type": "code",
   "execution_count": 2,
   "id": "96c1dad1",
   "metadata": {},
   "outputs": [],
   "source": [
    "motor = Motor(EnA=cfg.MOTOR.ENA,\n",
    "              EnB=cfg.MOTOR.ENB,\n",
    "              In1=cfg.MOTOR.IN1,\n",
    "              In2=cfg.MOTOR.IN2,\n",
    "              In3=cfg.MOTOR.IN3,\n",
    "              In4=cfg.MOTOR.IN4)"
   ]
  },
  {
   "cell_type": "code",
   "execution_count": null,
   "id": "46aa37a7",
   "metadata": {},
   "outputs": [
    {
     "name": "stdout",
     "output_type": "stream",
     "text": [
      "'w' forward\n",
      "'s' - backward\n",
      "'a' - left\n",
      "'d' - right\n",
      ">>> w\n",
      ">>> a\n",
      ">>> d\n",
      ">>> \n",
      ">>> s\n",
      ">>> d\n",
      ">>> s\n",
      ">>> d\n",
      ">>> d\n",
      ">>> \n",
      ">>> d\n",
      ">>> \n",
      ">>> w\n",
      ">>> d\n",
      ">>> d\n",
      ">>> d\n",
      ">>> d\n",
      ">>> d\n",
      ">>> d\n",
      ">>> a\n",
      ">>> a\n"
     ]
    },
    {
     "name": "stderr",
     "output_type": "stream",
     "text": [
      "Exception in thread Thread-5:\n",
      "Traceback (most recent call last):\n",
      "  File \"/usr/lib/python3.9/threading.py\", line 954, in _bootstrap_inner\n",
      "    self.run()\n",
      "  File \"/usr/lib/python3.9/threading.py\", line 892, in run\n",
      "    self._target(*self._args, **self._kwargs)\n",
      "  File \"/home/pi/123/motor.py\", line 79, in go\n",
      "    self.pwmRight.ChangeDutyCycle(abs(self.speed_right))\n",
      "ValueError: dutycycle must have a value from 0.0 to 100.0\n"
     ]
    },
    {
     "name": "stdout",
     "output_type": "stream",
     "text": [
      ">>> s\n",
      ">>> s\n"
     ]
    }
   ],
   "source": [
    "print(\"'w' forward\\n's' - backward\\n'a' - left\\n'd' - right\")\n",
    "while True:\n",
    "    d = input('>>> ')\n",
    "    motor.move(d, 50)\n",
    "    if d == 'q': break"
   ]
  },
  {
   "cell_type": "code",
   "execution_count": null,
   "id": "71aafdff",
   "metadata": {},
   "outputs": [],
   "source": [
    "motor.isRunning"
   ]
  },
  {
   "cell_type": "code",
   "execution_count": 1,
   "id": "0c25c14f",
   "metadata": {},
   "outputs": [
    {
     "ename": "NameError",
     "evalue": "name 'motor' is not defined",
     "output_type": "error",
     "traceback": [
      "\u001b[0;31m---------------------------------------------------------------------------\u001b[0m",
      "\u001b[0;31mNameError\u001b[0m                                 Traceback (most recent call last)",
      "Input \u001b[0;32mIn [1]\u001b[0m, in \u001b[0;36m<cell line: 1>\u001b[0;34m()\u001b[0m\n\u001b[0;32m----> 1\u001b[0m \u001b[43mmotor\u001b[49m\u001b[38;5;241m.\u001b[39mpwmLeft\u001b[38;5;241m.\u001b[39mChangeDutyCycle(\u001b[38;5;241m30\u001b[39m)\n",
      "\u001b[0;31mNameError\u001b[0m: name 'motor' is not defined"
     ]
    }
   ],
   "source": [
    "motor.pwmLeft.ChangeDutyCycle(30)"
   ]
  },
  {
   "cell_type": "code",
   "execution_count": 13,
   "id": "9cf6229f",
   "metadata": {},
   "outputs": [
    {
     "data": {
      "text/plain": [
       "False"
      ]
     },
     "execution_count": 13,
     "metadata": {},
     "output_type": "execute_result"
    }
   ],
   "source": [
    "motor.isRunning"
   ]
  },
  {
   "cell_type": "code",
   "execution_count": null,
   "id": "7cad6702",
   "metadata": {},
   "outputs": [],
   "source": [
    "motor.wheel('f')"
   ]
  },
  {
   "cell_type": "code",
   "execution_count": null,
   "id": "63cf84e1",
   "metadata": {},
   "outputs": [],
   "source": [
    "motor.speed_left = 0"
   ]
  },
  {
   "cell_type": "code",
   "execution_count": null,
   "id": "a74c4baf",
   "metadata": {},
   "outputs": [],
   "source": [
    "motor.isRunning = True"
   ]
  },
  {
   "cell_type": "code",
   "execution_count": null,
   "id": "e0f138be",
   "metadata": {},
   "outputs": [],
   "source": [
    "motor.go()"
   ]
  },
  {
   "cell_type": "code",
   "execution_count": null,
   "id": "e9d476fc",
   "metadata": {},
   "outputs": [],
   "source": []
  }
 ],
 "metadata": {
  "kernelspec": {
   "display_name": "Python 3 (ipykernel)",
   "language": "python",
   "name": "python3"
  },
  "language_info": {
   "codemirror_mode": {
    "name": "ipython",
    "version": 3
   },
   "file_extension": ".py",
   "mimetype": "text/x-python",
   "name": "python",
   "nbconvert_exporter": "python",
   "pygments_lexer": "ipython3",
   "version": "3.9.2"
  }
 },
 "nbformat": 4,
 "nbformat_minor": 5
}
